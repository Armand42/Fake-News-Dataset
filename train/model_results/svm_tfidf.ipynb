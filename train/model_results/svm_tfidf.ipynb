{
 "cells": [
  {
   "cell_type": "code",
   "execution_count": 1,
   "metadata": {},
   "outputs": [
    {
     "name": "stderr",
     "output_type": "stream",
     "text": [
      "/Users/KevinWang/anaconda3/lib/python3.7/site-packages/sklearn/ensemble/iforest.py:237: FutureWarning: default contamination parameter 0.1 will change in version 0.22 to \"auto\". This will change the predict method behavior.\n",
      "  FutureWarning)\n",
      "/Users/KevinWang/anaconda3/lib/python3.7/site-packages/sklearn/ensemble/iforest.py:247: FutureWarning: behaviour=\"old\" is deprecated and will be removed in version 0.22. Please use behaviour=\"new\", which makes the decision_function change to match other anomaly detection algorithm API.\n",
      "  FutureWarning)\n",
      "/Users/KevinWang/anaconda3/lib/python3.7/site-packages/sklearn/ensemble/iforest.py:415: DeprecationWarning: threshold_ attribute is deprecated in 0.20 and will be removed in 0.22.\n",
      "  \" be removed in 0.22.\", DeprecationWarning)\n"
     ]
    },
    {
     "name": "stdout",
     "output_type": "stream",
     "text": [
      "(1798,)\n",
      "(17973,)\n",
      "the percentage of outliers in  TFIDF_Train  is:  10.003894730985367 %\n",
      "(16175, 10000)  is shape of X for  TFIDF_Train after removing outliers\n",
      "(16175,)  is shape of Y for  TFIDF_Train  after removing outlier\n"
     ]
    },
    {
     "name": "stderr",
     "output_type": "stream",
     "text": [
      "/Users/KevinWang/anaconda3/lib/python3.7/site-packages/sklearn/ensemble/iforest.py:237: FutureWarning: default contamination parameter 0.1 will change in version 0.22 to \"auto\". This will change the predict method behavior.\n",
      "  FutureWarning)\n",
      "/Users/KevinWang/anaconda3/lib/python3.7/site-packages/sklearn/ensemble/iforest.py:247: FutureWarning: behaviour=\"old\" is deprecated and will be removed in version 0.22. Please use behaviour=\"new\", which makes the decision_function change to match other anomaly detection algorithm API.\n",
      "  FutureWarning)\n",
      "/Users/KevinWang/anaconda3/lib/python3.7/site-packages/sklearn/ensemble/iforest.py:415: DeprecationWarning: threshold_ attribute is deprecated in 0.20 and will be removed in 0.22.\n",
      "  \" be removed in 0.22.\", DeprecationWarning)\n"
     ]
    },
    {
     "name": "stdout",
     "output_type": "stream",
     "text": [
      "(450,)\n",
      "(4494,)\n",
      "the percentage of outliers in  TFIDF_Test  is:  10.013351134846461 %\n",
      "(4044, 10000)  is shape of X for  TFIDF_Test after removing outliers\n",
      "Performing Grid Search on SVM...\n",
      "Fitting 3 folds for each of 6 candidates, totalling 18 fits\n"
     ]
    },
    {
     "name": "stderr",
     "output_type": "stream",
     "text": [
      "[Parallel(n_jobs=-1)]: Using backend LokyBackend with 8 concurrent workers.\n",
      "[Parallel(n_jobs=-1)]: Done  18 out of  18 | elapsed: 138.2min finished\n"
     ]
    },
    {
     "name": "stdout",
     "output_type": "stream",
     "text": [
      "0.940958 (0.002722) with: {'C': 0.25, 'kernel': 'linear'}\n",
      "0.573849 (0.000050) with: {'C': 0.25, 'kernel': 'rbf'}\n",
      "0.945100 (0.002506) with: {'C': 0.5, 'kernel': 'linear'}\n",
      "0.573849 (0.000050) with: {'C': 0.5, 'kernel': 'rbf'}\n",
      "0.945781 (0.001706) with: {'C': 0.75, 'kernel': 'linear'}\n",
      "0.573849 (0.000050) with: {'C': 0.75, 'kernel': 'rbf'}\n"
     ]
    }
   ],
   "source": [
    "import readdata\n",
    "from text_vectorizer import CV\n",
    "from text_vectorizer import TFIDF\n",
    "from text_vectorizer import word2vec\n",
    "from text_vectorizer import outlierDection\n",
    "from OutlierDetectRemove import removeOutliers\n",
    "from sklearn import metrics\n",
    "from sklearn.svm import SVC\n",
    "from tensorflow.keras.preprocessing.sequence import pad_sequences\n",
    "from sklearn.model_selection import GridSearchCV\n",
    "import numpy as np\n",
    "import sys\n",
    "\n",
    "# Usage: \n",
    "# 1. python svm.py cv\n",
    "# 2. python svm.py tfidf\n",
    "# 3. python svm.py word2vec\n",
    "\n",
    "def getRemovedVals(X,Y = None,Ftype = \"\",isTest = False):\n",
    "\n",
    "    X = np.array(X)\n",
    "    index,_ = outlierDection(X,Ftype)\n",
    "    if not isTest:\n",
    "        Y = np.array(Y)\n",
    "        Xrem,Yrem = removeOutliers(index,X,Y,Ftype)\n",
    "        return Xrem,Yrem\n",
    "\n",
    "    else:\n",
    "        Xrem = removeOutliers(index,X,Y,Ftype)\n",
    "        return Xrem\n",
    "\n",
    "def evaluate(pred, truth):\n",
    "    print('Mean Absolute Error:', metrics.mean_absolute_error(truth, pred))\n",
    "    print('Mean Squared Error:', metrics.mean_squared_error(truth, pred))\n",
    "    print('Root Mean Squared Error:', np.sqrt(metrics.mean_squared_error(truth, pred)))\n",
    "\n",
    "\n",
    "\n",
    "dfTrain = readdata.read_clean_data(readdata.TRAINFILEPATH,nolabel = False)\n",
    "dfTest = readdata.read_clean_data(readdata.TESTFILEPATH,nolabel = True)\n",
    "\n",
    "X_train = dfTrain['text'].to_numpy()\n",
    "Y_train = dfTrain['label'].to_numpy()\n",
    "X_test = dfTest['text'].to_numpy() # unlabelled\n",
    "\n",
    "# X_train, X_test, _ = CV(X_train, X_test) # train shape: (17973, 141221)\n",
    "# X_train,Y_train = getRemovedVals(X = X_train,Y = Y_train,Ftype = \"CV_Train\",isTest = False)\n",
    "# X_test = getRemovedVals(X = X_test,Y = None,Ftype = \"CV_Test\",isTest = True)\n",
    "\n",
    "\n",
    "X_train, X_test, _ = TFIDF(X_train, X_test) # shape: (17973, 141221)\n",
    "X_train,Y_train = getRemovedVals(X = X_train,Y = Y_train,Ftype = \"TFIDF_Train\",isTest = False)\n",
    "X_test = getRemovedVals(X = X_test,Y = None,Ftype = \"TFIDF_Test\",isTest = True)\n",
    "\n",
    "\n",
    "# X_train, X_test = word2vec(X_train, X_test)\n",
    "# X_train,Y_train = getRemovedVals(X = X_train,Y = Y_train,Ftype = \"W2V_Train\",isTest = False)\n",
    "# X_test = getRemovedVals(X = X_test,Y = None,Ftype = \"W2V_Test\",isTest = True)\n",
    "\n",
    "print(\"Performing Grid Search on SVM...\")\n",
    "svm = SVC()\n",
    "parameters = {'kernel':('linear', 'rbf'), 'C':(0.25,0.5,0.75)}\n",
    "grid = GridSearchCV(estimator = svm, param_grid = parameters,n_jobs=-1, cv=3,verbose=1)\n",
    "grid_result = grid.fit(X_train, Y_train)\n",
    "means = grid_result.cv_results_['mean_test_score']\n",
    "stds = grid_result.cv_results_['std_test_score']\n",
    "params = grid_result.cv_results_['params']\n",
    "for mean, stdev, param in zip(means, stds, params):\n",
    "    print(\"%f (%f) with: %r\" % (mean, stdev, param))\n"
   ]
  },
  {
   "cell_type": "code",
   "execution_count": 2,
   "metadata": {},
   "outputs": [
    {
     "name": "stdout",
     "output_type": "stream",
     "text": [
      "Best: 0.945781 using {'C': 0.75, 'kernel': 'linear'}\n"
     ]
    }
   ],
   "source": [
    "print(\"Best: %f using %s\" % (grid_result.best_score_, grid_result.best_params_))"
   ]
  }
 ],
 "metadata": {
  "kernelspec": {
   "display_name": "Python 3",
   "language": "python",
   "name": "python3"
  },
  "language_info": {
   "codemirror_mode": {
    "name": "ipython",
    "version": 3
   },
   "file_extension": ".py",
   "mimetype": "text/x-python",
   "name": "python",
   "nbconvert_exporter": "python",
   "pygments_lexer": "ipython3",
   "version": "3.7.3"
  }
 },
 "nbformat": 4,
 "nbformat_minor": 2
}
