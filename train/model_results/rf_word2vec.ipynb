{
 "cells": [
  {
   "cell_type": "code",
   "execution_count": 1,
   "metadata": {},
   "outputs": [
    {
     "name": "stderr",
     "output_type": "stream",
     "text": [
      "/Users/KevinWang/anaconda3/lib/python3.7/site-packages/sklearn/ensemble/iforest.py:237: FutureWarning: default contamination parameter 0.1 will change in version 0.22 to \"auto\". This will change the predict method behavior.\n",
      "  FutureWarning)\n",
      "/Users/KevinWang/anaconda3/lib/python3.7/site-packages/sklearn/ensemble/iforest.py:247: FutureWarning: behaviour=\"old\" is deprecated and will be removed in version 0.22. Please use behaviour=\"new\", which makes the decision_function change to match other anomaly detection algorithm API.\n",
      "  FutureWarning)\n",
      "/Users/KevinWang/anaconda3/lib/python3.7/site-packages/sklearn/ensemble/iforest.py:415: DeprecationWarning: threshold_ attribute is deprecated in 0.20 and will be removed in 0.22.\n",
      "  \" be removed in 0.22.\", DeprecationWarning)\n"
     ]
    },
    {
     "name": "stdout",
     "output_type": "stream",
     "text": [
      "(1798,)\n",
      "(17973,)\n",
      "the percentage of outliers in  W2V_Train  is:  10.003894730985367 %\n",
      "(16175, 100)  is shape of X for  W2V_Train after removing outliers\n",
      "(16175,)  is shape of Y for  W2V_Train  after removing outlier\n"
     ]
    },
    {
     "name": "stderr",
     "output_type": "stream",
     "text": [
      "/Users/KevinWang/anaconda3/lib/python3.7/site-packages/sklearn/ensemble/iforest.py:237: FutureWarning: default contamination parameter 0.1 will change in version 0.22 to \"auto\". This will change the predict method behavior.\n",
      "  FutureWarning)\n",
      "/Users/KevinWang/anaconda3/lib/python3.7/site-packages/sklearn/ensemble/iforest.py:247: FutureWarning: behaviour=\"old\" is deprecated and will be removed in version 0.22. Please use behaviour=\"new\", which makes the decision_function change to match other anomaly detection algorithm API.\n",
      "  FutureWarning)\n",
      "/Users/KevinWang/anaconda3/lib/python3.7/site-packages/sklearn/ensemble/iforest.py:415: DeprecationWarning: threshold_ attribute is deprecated in 0.20 and will be removed in 0.22.\n",
      "  \" be removed in 0.22.\", DeprecationWarning)\n"
     ]
    },
    {
     "name": "stdout",
     "output_type": "stream",
     "text": [
      "(450,)\n",
      "(4494,)\n",
      "the percentage of outliers in  W2V_Test  is:  10.013351134846461 %\n",
      "(4044, 100)  is shape of X for  W2V_Test after removing outliers\n",
      "0.713818 (0.006024) with: {'max_depth': 1, 'min_samples_leaf': 2, 'min_samples_split': 5, 'n_estimators': 200}\n",
      "0.722102 (0.000374) with: {'max_depth': 1, 'min_samples_leaf': 2, 'min_samples_split': 5, 'n_estimators': 400}\n",
      "0.719753 (0.004592) with: {'max_depth': 1, 'min_samples_leaf': 2, 'min_samples_split': 5, 'n_estimators': 800}\n",
      "0.718145 (0.008993) with: {'max_depth': 1, 'min_samples_leaf': 2, 'min_samples_split': 10, 'n_estimators': 200}\n",
      "0.723400 (0.008047) with: {'max_depth': 1, 'min_samples_leaf': 2, 'min_samples_split': 10, 'n_estimators': 400}\n",
      "0.718083 (0.005702) with: {'max_depth': 1, 'min_samples_leaf': 2, 'min_samples_split': 10, 'n_estimators': 800}\n",
      "0.716785 (0.010356) with: {'max_depth': 1, 'min_samples_leaf': 4, 'min_samples_split': 5, 'n_estimators': 200}\n",
      "0.712643 (0.011375) with: {'max_depth': 1, 'min_samples_leaf': 4, 'min_samples_split': 5, 'n_estimators': 400}\n",
      "0.717527 (0.001190) with: {'max_depth': 1, 'min_samples_leaf': 4, 'min_samples_split': 5, 'n_estimators': 800}\n",
      "0.719382 (0.002099) with: {'max_depth': 1, 'min_samples_leaf': 4, 'min_samples_split': 10, 'n_estimators': 200}\n",
      "0.718578 (0.006502) with: {'max_depth': 1, 'min_samples_leaf': 4, 'min_samples_split': 10, 'n_estimators': 400}\n",
      "0.721175 (0.006481) with: {'max_depth': 1, 'min_samples_leaf': 4, 'min_samples_split': 10, 'n_estimators': 800}\n",
      "0.858733 (0.003675) with: {'max_depth': 5, 'min_samples_leaf': 2, 'min_samples_split': 5, 'n_estimators': 200}\n",
      "0.859351 (0.001536) with: {'max_depth': 5, 'min_samples_leaf': 2, 'min_samples_split': 5, 'n_estimators': 400}\n",
      "0.861391 (0.002301) with: {'max_depth': 5, 'min_samples_leaf': 2, 'min_samples_split': 5, 'n_estimators': 800}\n",
      "0.860773 (0.003245) with: {'max_depth': 5, 'min_samples_leaf': 2, 'min_samples_split': 10, 'n_estimators': 200}\n",
      "0.859907 (0.002028) with: {'max_depth': 5, 'min_samples_leaf': 2, 'min_samples_split': 10, 'n_estimators': 400}\n",
      "0.859227 (0.002592) with: {'max_depth': 5, 'min_samples_leaf': 2, 'min_samples_split': 10, 'n_estimators': 800}\n",
      "0.860835 (0.002580) with: {'max_depth': 5, 'min_samples_leaf': 4, 'min_samples_split': 5, 'n_estimators': 200}\n",
      "0.859969 (0.003382) with: {'max_depth': 5, 'min_samples_leaf': 4, 'min_samples_split': 5, 'n_estimators': 400}\n",
      "0.859289 (0.003582) with: {'max_depth': 5, 'min_samples_leaf': 4, 'min_samples_split': 5, 'n_estimators': 800}\n",
      "0.859722 (0.002727) with: {'max_depth': 5, 'min_samples_leaf': 4, 'min_samples_split': 10, 'n_estimators': 200}\n",
      "0.859784 (0.001869) with: {'max_depth': 5, 'min_samples_leaf': 4, 'min_samples_split': 10, 'n_estimators': 400}\n",
      "0.858918 (0.002440) with: {'max_depth': 5, 'min_samples_leaf': 4, 'min_samples_split': 10, 'n_estimators': 800}\n",
      "0.884699 (0.001583) with: {'max_depth': 9, 'min_samples_leaf': 2, 'min_samples_split': 5, 'n_estimators': 200}\n",
      "0.885255 (0.002128) with: {'max_depth': 9, 'min_samples_leaf': 2, 'min_samples_split': 5, 'n_estimators': 400}\n",
      "0.885997 (0.002981) with: {'max_depth': 9, 'min_samples_leaf': 2, 'min_samples_split': 5, 'n_estimators': 800}\n",
      "0.884266 (0.002808) with: {'max_depth': 9, 'min_samples_leaf': 2, 'min_samples_split': 10, 'n_estimators': 200}\n",
      "0.884142 (0.003271) with: {'max_depth': 9, 'min_samples_leaf': 2, 'min_samples_split': 10, 'n_estimators': 400}\n",
      "0.885626 (0.002470) with: {'max_depth': 9, 'min_samples_leaf': 2, 'min_samples_split': 10, 'n_estimators': 800}\n",
      "0.882844 (0.002315) with: {'max_depth': 9, 'min_samples_leaf': 4, 'min_samples_split': 5, 'n_estimators': 200}\n",
      "0.885070 (0.004165) with: {'max_depth': 9, 'min_samples_leaf': 4, 'min_samples_split': 5, 'n_estimators': 400}\n",
      "0.884699 (0.002071) with: {'max_depth': 9, 'min_samples_leaf': 4, 'min_samples_split': 5, 'n_estimators': 800}\n",
      "0.883709 (0.003332) with: {'max_depth': 9, 'min_samples_leaf': 4, 'min_samples_split': 10, 'n_estimators': 200}\n",
      "0.885193 (0.002586) with: {'max_depth': 9, 'min_samples_leaf': 4, 'min_samples_split': 10, 'n_estimators': 400}\n",
      "0.883895 (0.002890) with: {'max_depth': 9, 'min_samples_leaf': 4, 'min_samples_split': 10, 'n_estimators': 800}\n"
     ]
    }
   ],
   "source": [
    "import readdata\n",
    "from text_vectorizer import CV\n",
    "from text_vectorizer import TFIDF\n",
    "from text_vectorizer import word2vec\n",
    "from text_vectorizer import outlierDection\n",
    "from OutlierDetectRemove import removeOutliers\n",
    "from sklearn import metrics\n",
    "from sklearn.ensemble import RandomForestClassifier\n",
    "from tensorflow.keras.preprocessing.sequence import pad_sequences\n",
    "from sklearn.model_selection import GridSearchCV\n",
    "import numpy as np\n",
    "import sys\n",
    "\n",
    "# Usage: \n",
    "# 1. python lstm.py cv\n",
    "# 2. python lstm.py tfidf\n",
    "# 3. python lstm.py word2vec\n",
    "\n",
    "# cross-validation 3\n",
    "# number of estimators: 200, 400, 800\n",
    "# max_depth: 1, 5, 9\n",
    "# min_samples_leaf: 2, 4\n",
    "# min_samples_split: 5, 10\n",
    "\n",
    "def getRemovedVals(X,Y = None,Ftype = \"\",isTest = False):\n",
    "\n",
    "    X = np.array(X)\n",
    "    index,_ = outlierDection(X,Ftype)\n",
    "    if not isTest:\n",
    "        Y = np.array(Y)\n",
    "        Xrem,Yrem = removeOutliers(index,X,Y,Ftype)\n",
    "        return Xrem,Yrem\n",
    "\n",
    "    else:\n",
    "        Xrem = removeOutliers(index,X,Y,Ftype)\n",
    "        return Xrem\n",
    "\n",
    "\n",
    "def evaluate(pred, truth):\n",
    "    print('Mean Absolute Error:', metrics.mean_absolute_error(truth, pred))\n",
    "    print('Mean Squared Error:', metrics.mean_squared_error(truth, pred))\n",
    "    print('Root Mean Squared Error:', np.sqrt(metrics.mean_squared_error(truth, pred)))\n",
    "\n",
    "\n",
    "dfTrain = readdata.read_clean_data(readdata.TRAINFILEPATH,nolabel = False)\n",
    "dfTest = readdata.read_clean_data(readdata.TESTFILEPATH,nolabel = True)\n",
    "\n",
    "X_train = dfTrain['text'].to_numpy()\n",
    "Y_train = dfTrain['label'].to_numpy()\n",
    "X_test = dfTest['text'].to_numpy() # unlabelled\n",
    "\n",
    "\n",
    "# X_train, X_test, _ = CV(X_train, X_test) # train shape: (17973, 141221)\n",
    "# X_train,Y_train = getRemovedVals(X = X_train,Y = Y_train,Ftype = \"CV_Train\",isTest = False)\n",
    "# X_test = getRemovedVals(X = X_test,Y = None,Ftype = \"CV_Test\",isTest = True)\n",
    "\n",
    "\n",
    "# X_train, X_test, _ = TFIDF(X_train, X_test) # shape: (17973, 141221)\n",
    "# X_train,Y_train = getRemovedVals(X = X_train,Y = Y_train,Ftype = \"TFIDF_Train\",isTest = False)\n",
    "# X_test = getRemovedVals(X = X_test,Y = None,Ftype = \"TFIDF_Test\",isTest = True)\n",
    "\n",
    "\n",
    "X_train, X_test = word2vec(X_train, X_test)\n",
    "X_train,Y_train = getRemovedVals(X = X_train,Y = Y_train,Ftype = \"W2V_Train\",isTest = False)\n",
    "X_test = getRemovedVals(X = X_test,Y = None,Ftype = \"W2V_Test\",isTest = True)\n",
    "\n",
    "\n",
    "# below are the hyperparameters to be grid-searched on\n",
    "n_estimators = [200, 400, 800]\n",
    "max_depth = [1, 5, 9]\n",
    "min_samples_leaf = [2, 4]\n",
    "min_samples_split = [5, 10]\n",
    "param_grid = dict(n_estimators=n_estimators, max_depth=max_depth,\n",
    "                min_samples_leaf=min_samples_leaf,\n",
    "                min_samples_split=min_samples_split)\n",
    "\n",
    "model = RandomForestClassifier()\n",
    "grid = GridSearchCV(estimator=model, param_grid=param_grid, n_jobs=-1, cv=3)\n",
    "grid_result = grid.fit(X_train, Y_train)\n",
    "means = grid_result.cv_results_['mean_test_score']\n",
    "stds = grid_result.cv_results_['std_test_score']\n",
    "params = grid_result.cv_results_['params']\n",
    "for mean, stdev, param in zip(means, stds, params):\n",
    "    print(\"%f (%f) with: %r\" % (mean, stdev, param))"
   ]
  },
  {
   "cell_type": "code",
   "execution_count": 11,
   "metadata": {},
   "outputs": [
    {
     "name": "stdout",
     "output_type": "stream",
     "text": [
      "Best: 0.885997 using {'max_depth': 9, 'min_samples_leaf': 2, 'min_samples_split': 5, 'n_estimators': 800}\n"
     ]
    }
   ],
   "source": [
    "print(\"Best: %f using %s\" % (grid_result.best_score_, grid_result.best_params_))"
   ]
  }
 ],
 "metadata": {
  "kernelspec": {
   "display_name": "Python 3",
   "language": "python",
   "name": "python3"
  },
  "language_info": {
   "codemirror_mode": {
    "name": "ipython",
    "version": 3
   },
   "file_extension": ".py",
   "mimetype": "text/x-python",
   "name": "python",
   "nbconvert_exporter": "python",
   "pygments_lexer": "ipython3",
   "version": "3.7.3"
  }
 },
 "nbformat": 4,
 "nbformat_minor": 2
}
